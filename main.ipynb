{
 "cells": [
  {
   "cell_type": "code",
   "execution_count": 1,
   "id": "064e375c",
   "metadata": {},
   "outputs": [],
   "source": [
    "import mlflow\n",
    "import mlflow.sklearn\n",
    "from sklearn.datasets import make_regression\n",
    "from sklearn.linear_model import Ridge\n",
    "from sklearn.metrics import mean_squared_error\n",
    "from sklearn.model_selection import train_test_split"
   ]
  },
  {
   "cell_type": "code",
   "execution_count": 18,
   "id": "1fa1b201",
   "metadata": {},
   "outputs": [
    {
     "data": {
      "text/plain": [
       "<Experiment: artifact_location='file:///c:/Users/Dimit/Documents/epita/ml-ops/tp2-ml-ops/mlruns/729775294814508479', creation_time=1757941424135, experiment_id='729775294814508479', last_update_time=1757941424135, lifecycle_stage='active', name='Ridge_Regression_Experiment', tags={}>"
      ]
     },
     "execution_count": 18,
     "metadata": {},
     "output_type": "execute_result"
    }
   ],
   "source": [
    "mlflow.set_experiment(\"Ridge_Regression_Experiment\")"
   ]
  },
  {
   "cell_type": "code",
   "execution_count": 15,
   "id": "b5390174",
   "metadata": {},
   "outputs": [],
   "source": [
    "SEED = 1\n",
    "ALPHA = 0.6\n",
    "RANDOM_STATE = 42\n",
    "MODEL_NAME = \"Ridge\"\n",
    "DATASET_NAME = \"Synthetic_Regression\""
   ]
  },
  {
   "cell_type": "code",
   "execution_count": null,
   "id": "8b4ec18c",
   "metadata": {},
   "outputs": [
    {
     "name": "stderr",
     "output_type": "stream",
     "text": [
      "c:\\Users\\Dimit\\Documents\\epita\\ml-ops\\tp2-ml-ops\\.venv\\lib\\site-packages\\mlflow\\data\\dataset_source_registry.py:149: UserWarning: Failed to determine whether UCVolumeDatasetSource can resolve source information for 'Synthetic_Regression'. Exception: \n",
      "  return _dataset_source_registry.resolve(\n",
      "c:\\Users\\Dimit\\Documents\\epita\\ml-ops\\tp2-ml-ops\\.venv\\lib\\site-packages\\mlflow\\data\\dataset_source_registry.py:149: UserWarning: The specified dataset source can be interpreted in multiple ways: LocalArtifactDatasetSource, LocalArtifactDatasetSource. MLflow will assume that this is a LocalArtifactDatasetSource source.\n",
      "  return _dataset_source_registry.resolve(\n"
     ]
    },
    {
     "name": "stdout",
     "output_type": "stream",
     "text": [
      "Run terminé : modèle=Ridge, dataset=Synthetic_Regression, MSE=90.4826\n"
     ]
    },
    {
     "name": "stderr",
     "output_type": "stream",
     "text": [
      "Registered model 'sk-learn-random-forest-reg-model' already exists. Creating a new version of this model...\n",
      "Created version '6' of model 'sk-learn-random-forest-reg-model'.\n"
     ]
    }
   ],
   "source": [
    "X, y = make_regression(n_samples=1000, n_features=10, noise=10, random_state=SEED)\n",
    "X_train, X_test, y_train, y_test = train_test_split(X, y, test_size=0.2, random_state=SEED)\n",
    "\n",
    "with mlflow.start_run():\n",
    "    # Hyperparamètres\n",
    "    mlflow.log_param(\"alpha\", ALPHA)\n",
    "    mlflow.log_param(\"random_state\", RANDOM_STATE)\n",
    "    mlflow.log_param(\"seed\", SEED)\n",
    "\n",
    "\n",
    "    model = Ridge(alpha=ALPHA, random_state=RANDOM_STATE)\n",
    "    model.fit(X_train, y_train)\n",
    "\n",
    "    # Prédictions\n",
    "    y_pred = model.predict(X_test)\n",
    "\n",
    "    # Métrique\n",
    "    mse = mean_squared_error(y_test, y_pred)\n",
    "    mlflow.log_metric(\"mse\", mse)\n",
    "\n",
    "    train_dataset = mlflow.data.from_numpy(X_train, source=DATASET_NAME, name=\"train_dataset\")\n",
    "    mlflow.log_input(train_dataset, context=\"training\")\n",
    "\n",
    "    mlflow.sklearn.log_model(\n",
    "        sk_model=model,\n",
    "        name=\"sklearn-model\",\n",
    "        input_example=X_train,\n",
    "        registered_model_name=\"sk-learn-random-forest-reg-model\",\n",
    "    )\n",
    "    print(f\"Run terminé : modèle={MODEL_NAME}, dataset={DATASET_NAME}, MSE={mse:.4f}\")"
   ]
  },
  {
   "cell_type": "code",
   "execution_count": null,
   "id": "f4bac617",
   "metadata": {},
   "outputs": [],
   "source": []
  }
 ],
 "metadata": {
  "kernelspec": {
   "display_name": ".venv",
   "language": "python",
   "name": "python3"
  },
  "language_info": {
   "codemirror_mode": {
    "name": "ipython",
    "version": 3
   },
   "file_extension": ".py",
   "mimetype": "text/x-python",
   "name": "python",
   "nbconvert_exporter": "python",
   "pygments_lexer": "ipython3",
   "version": "3.10.2"
  }
 },
 "nbformat": 4,
 "nbformat_minor": 5
}
